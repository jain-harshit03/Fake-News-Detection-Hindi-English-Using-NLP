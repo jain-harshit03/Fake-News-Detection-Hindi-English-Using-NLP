{
 "cells": [
  {
   "cell_type": "code",
   "execution_count": 1,
   "metadata": {},
   "outputs": [],
   "source": [
    "#Importing all the necessary Libraries\n",
    "from bs4 import BeautifulSoup\n",
    "import pandas as pd\n",
    "import requests\n",
    "import urllib.request\n",
    "import time"
   ]
  },
  {
   "cell_type": "code",
   "execution_count": 26,
   "metadata": {},
   "outputs": [],
   "source": [
    "#Creating List to Store the Scraped Data\n",
    "link= []\n",
    "authors = []\n",
    "dates = []\n",
    "statements = []\n",
    "source = []\n",
    "labels = []"
   ]
  },
  {
   "cell_type": "code",
   "execution_count": 27,
   "metadata": {},
   "outputs": [],
   "source": [
    "#Creating a function to scrape the data from the website\n",
    "for i in range(0, 10000, 50):\n",
    "        URL = 'https://www.aajtak.in/fact-check?offset=' + str(i)\n",
    "        webpage = requests.get(URL)\n",
    "        soup = BeautifulSoup(webpage.text, 'html.parser')\n",
    "        \n",
    "        #Get the Location of the information\n",
    "        \n",
    "        statement_quote = soup.find_all('h2', attrs={'class':'title'}) #location of the author\n",
    "        \n",
    "        #Loop through statement quote\n",
    "        for i in statement_quote:\n",
    "            for a in i.find_all('a', href=True):\n",
    "                link2 = a['href']\n",
    "                link.append(link2)    "
   ]
  },
  {
   "cell_type": "code",
   "execution_count": 28,
   "metadata": {},
   "outputs": [
    {
     "data": {
      "text/html": [
       "<div>\n",
       "<style scoped>\n",
       "    .dataframe tbody tr th:only-of-type {\n",
       "        vertical-align: middle;\n",
       "    }\n",
       "\n",
       "    .dataframe tbody tr th {\n",
       "        vertical-align: top;\n",
       "    }\n",
       "\n",
       "    .dataframe thead th {\n",
       "        text-align: right;\n",
       "    }\n",
       "</style>\n",
       "<table border=\"1\" class=\"dataframe\">\n",
       "  <thead>\n",
       "    <tr style=\"text-align: right;\">\n",
       "      <th></th>\n",
       "      <th>Links</th>\n",
       "    </tr>\n",
       "  </thead>\n",
       "  <tbody>\n",
       "    <tr>\n",
       "      <th>0</th>\n",
       "      <td>https://www.aajtak.in/fact-check/story/israeli...</td>\n",
       "    </tr>\n",
       "    <tr>\n",
       "      <th>1</th>\n",
       "      <td>https://www.aajtak.in/fact-check/story/fact-ch...</td>\n",
       "    </tr>\n",
       "    <tr>\n",
       "      <th>2</th>\n",
       "      <td>https://www.aajtak.in/fact-check/story/fact-ch...</td>\n",
       "    </tr>\n",
       "    <tr>\n",
       "      <th>3</th>\n",
       "      <td>https://www.aajtak.in/fact-check/story/fact-ch...</td>\n",
       "    </tr>\n",
       "    <tr>\n",
       "      <th>4</th>\n",
       "      <td>https://www.aajtak.in/fact-check/story/fact-ch...</td>\n",
       "    </tr>\n",
       "    <tr>\n",
       "      <th>...</th>\n",
       "      <td>...</td>\n",
       "    </tr>\n",
       "    <tr>\n",
       "      <th>2995</th>\n",
       "      <td>https://www.aajtak.in/fact-check/story/fact-ch...</td>\n",
       "    </tr>\n",
       "    <tr>\n",
       "      <th>2996</th>\n",
       "      <td>https://www.aajtak.in/fact-check/story/anju-vi...</td>\n",
       "    </tr>\n",
       "    <tr>\n",
       "      <th>2997</th>\n",
       "      <td>https://www.aajtak.in/fact-check/story/waheeda...</td>\n",
       "    </tr>\n",
       "    <tr>\n",
       "      <th>2998</th>\n",
       "      <td>https://www.aajtak.in/fact-check/story/fact-ch...</td>\n",
       "    </tr>\n",
       "    <tr>\n",
       "      <th>2999</th>\n",
       "      <td>https://www.aajtak.in/fact-check/story/no-trut...</td>\n",
       "    </tr>\n",
       "  </tbody>\n",
       "</table>\n",
       "<p>3000 rows × 1 columns</p>\n",
       "</div>"
      ],
      "text/plain": [
       "                                                  Links\n",
       "0     https://www.aajtak.in/fact-check/story/israeli...\n",
       "1     https://www.aajtak.in/fact-check/story/fact-ch...\n",
       "2     https://www.aajtak.in/fact-check/story/fact-ch...\n",
       "3     https://www.aajtak.in/fact-check/story/fact-ch...\n",
       "4     https://www.aajtak.in/fact-check/story/fact-ch...\n",
       "...                                                 ...\n",
       "2995  https://www.aajtak.in/fact-check/story/fact-ch...\n",
       "2996  https://www.aajtak.in/fact-check/story/anju-vi...\n",
       "2997  https://www.aajtak.in/fact-check/story/waheeda...\n",
       "2998  https://www.aajtak.in/fact-check/story/fact-ch...\n",
       "2999  https://www.aajtak.in/fact-check/story/no-trut...\n",
       "\n",
       "[3000 rows x 1 columns]"
      ]
     },
     "execution_count": 28,
     "metadata": {},
     "output_type": "execute_result"
    }
   ],
   "source": [
    "data = pd.DataFrame(columns= ['Links'])\n",
    "data['Links'] = link\n",
    "\n",
    "data"
   ]
  },
  {
   "cell_type": "code",
   "execution_count": null,
   "metadata": {},
   "outputs": [],
   "source": []
  }
 ],
 "metadata": {
  "kernelspec": {
   "display_name": "Python 3",
   "language": "python",
   "name": "python3"
  },
  "language_info": {
   "codemirror_mode": {
    "name": "ipython",
    "version": 3
   },
   "file_extension": ".py",
   "mimetype": "text/x-python",
   "name": "python",
   "nbconvert_exporter": "python",
   "pygments_lexer": "ipython3",
   "version": "3.10.4"
  }
 },
 "nbformat": 4,
 "nbformat_minor": 2
}
