{
  "cells": [
    {
      "cell_type": "code",
      "execution_count": null,
      "metadata": {
        "id": "VbcXjpg7gLji"
      },
      "outputs": [],
      "source": [
        "import pandas as pd\n",
        "from sklearn.model_selection import train_test_split\n",
        "from sklearn.feature_extraction.text import TfidfVectorizer\n",
        "from sklearn.ensemble import RandomForestClassifier\n",
        "from sklearn.metrics import accuracy_score, classification_report"
      ]
    },
    {
      "cell_type": "code",
      "execution_count": null,
      "metadata": {
        "colab": {
          "base_uri": "https://localhost:8080/"
        },
        "id": "E394XxmngRyP",
        "outputId": "3e282d01-93f5-4963-e574-137998d5337d"
      },
      "outputs": [
        {
          "output_type": "stream",
          "name": "stdout",
          "text": [
            "Mounted at /content/drive\n"
          ]
        }
      ],
      "source": [
        "from google.colab import drive\n",
        "drive.mount('/content/drive')"
      ]
    },
    {
      "cell_type": "code",
      "execution_count": null,
      "metadata": {
        "colab": {
          "base_uri": "https://localhost:8080/"
        },
        "id": "XcL6suLFgTKx",
        "outputId": "088314d1-ac0d-414b-ac91-7fd10f5dbaf8"
      },
      "outputs": [
        {
          "output_type": "stream",
          "name": "stdout",
          "text": [
            "\u001b[?25l     \u001b[90m━━━━━━━━━━━━━━━━━━━━━━━━━━━━━━━━━━━━━━━━\u001b[0m \u001b[32m0.0/125.9 kB\u001b[0m \u001b[31m?\u001b[0m eta \u001b[36m-:--:--\u001b[0m\r\u001b[2K     \u001b[90m━━━━━━━━━━━━━━━━━━━━━━━━━━━━━━━━━━━━━━━━\u001b[0m \u001b[32m125.9/125.9 kB\u001b[0m \u001b[31m3.5 MB/s\u001b[0m eta \u001b[36m0:00:00\u001b[0m\n",
            "\u001b[?25h  Preparing metadata (setup.py) ... \u001b[?25l\u001b[?25hdone\n",
            "  Building wheel for ezodf (setup.py) ... \u001b[?25l\u001b[?25hdone\n"
          ]
        }
      ],
      "source": [
        "!pip3 install pandas_ods_reader -q\n",
        "from pandas_ods_reader import read_ods"
      ]
    },
    {
      "cell_type": "code",
      "execution_count": null,
      "metadata": {
        "colab": {
          "base_uri": "https://localhost:8080/"
        },
        "id": "7hd0kWQQJywv",
        "outputId": "3558ceaa-b09f-42a4-9990-e48fd07413b7"
      },
      "outputs": [
        {
          "output_type": "stream",
          "name": "stderr",
          "text": [
            "[nltk_data] Downloading package punkt to /root/nltk_data...\n",
            "[nltk_data]   Unzipping tokenizers/punkt.zip.\n"
          ]
        },
        {
          "output_type": "execute_result",
          "data": {
            "text/plain": [
              "True"
            ]
          },
          "metadata": {},
          "execution_count": 4
        }
      ],
      "source": [
        "import nltk\n",
        "import re\n",
        "nltk.download('punkt')"
      ]
    },
    {
      "cell_type": "code",
      "execution_count": null,
      "metadata": {
        "id": "wfdtDGYpDtdt"
      },
      "outputs": [],
      "source": [
        "import pandas as pd\n",
        "!pip3 install pandas_ods_reader -q\n",
        "from pandas_ods_reader import read_ods"
      ]
    },
    {
      "cell_type": "code",
      "execution_count": null,
      "metadata": {
        "id": "xsmfsvc-gUj1"
      },
      "outputs": [],
      "source": [
        "# data_sentiment = read_ods('/content/hi_3500.ods',1,headers = False)\n",
        "# data_sentiment.columns = ['text','sentiment']\n",
        "# data_sentiment.head()"
      ]
    },
    {
      "cell_type": "code",
      "execution_count": null,
      "metadata": {
        "id": "g9si0cmkEhbP",
        "colab": {
          "base_uri": "https://localhost:8080/",
          "height": 206
        },
        "outputId": "71272087-a83a-40e0-a006-2c3966fc526d"
      },
      "outputs": [
        {
          "output_type": "execute_result",
          "data": {
            "text/plain": [
              "                                                text sentiment\n",
              "0  लोग वतन तक खा जाते हैं इसका इसे यकीन नहींमान ज...  negative\n",
              "1  गुमनाम है वतन पर मिटने वाले लोग आतन्कवादियों स...  negative\n",
              "2  ज़ंजीर बदली जा रही थी मैं समझा था रिहाई हो गयी है  negative\n",
              "3  यूपी में बड़े स्तर पर दंगे करवा सकती है बीजेपी...  negative\n",
              "4  अंग्रेजी नहीं आती है इसलिए हिन्दी ट्विट ज्यादा...  negative"
            ],
            "text/html": [
              "\n",
              "  <div id=\"df-af9817d8-d0c9-4337-9988-80f2fda7d9e8\" class=\"colab-df-container\">\n",
              "    <div>\n",
              "<style scoped>\n",
              "    .dataframe tbody tr th:only-of-type {\n",
              "        vertical-align: middle;\n",
              "    }\n",
              "\n",
              "    .dataframe tbody tr th {\n",
              "        vertical-align: top;\n",
              "    }\n",
              "\n",
              "    .dataframe thead th {\n",
              "        text-align: right;\n",
              "    }\n",
              "</style>\n",
              "<table border=\"1\" class=\"dataframe\">\n",
              "  <thead>\n",
              "    <tr style=\"text-align: right;\">\n",
              "      <th></th>\n",
              "      <th>text</th>\n",
              "      <th>sentiment</th>\n",
              "    </tr>\n",
              "  </thead>\n",
              "  <tbody>\n",
              "    <tr>\n",
              "      <th>0</th>\n",
              "      <td>लोग वतन तक खा जाते हैं इसका इसे यकीन नहींमान ज...</td>\n",
              "      <td>negative</td>\n",
              "    </tr>\n",
              "    <tr>\n",
              "      <th>1</th>\n",
              "      <td>गुमनाम है वतन पर मिटने वाले लोग आतन्कवादियों स...</td>\n",
              "      <td>negative</td>\n",
              "    </tr>\n",
              "    <tr>\n",
              "      <th>2</th>\n",
              "      <td>ज़ंजीर बदली जा रही थी मैं समझा था रिहाई हो गयी है</td>\n",
              "      <td>negative</td>\n",
              "    </tr>\n",
              "    <tr>\n",
              "      <th>3</th>\n",
              "      <td>यूपी में बड़े स्तर पर दंगे करवा सकती है बीजेपी...</td>\n",
              "      <td>negative</td>\n",
              "    </tr>\n",
              "    <tr>\n",
              "      <th>4</th>\n",
              "      <td>अंग्रेजी नहीं आती है इसलिए हिन्दी ट्विट ज्यादा...</td>\n",
              "      <td>negative</td>\n",
              "    </tr>\n",
              "  </tbody>\n",
              "</table>\n",
              "</div>\n",
              "    <div class=\"colab-df-buttons\">\n",
              "\n",
              "  <div class=\"colab-df-container\">\n",
              "    <button class=\"colab-df-convert\" onclick=\"convertToInteractive('df-af9817d8-d0c9-4337-9988-80f2fda7d9e8')\"\n",
              "            title=\"Convert this dataframe to an interactive table.\"\n",
              "            style=\"display:none;\">\n",
              "\n",
              "  <svg xmlns=\"http://www.w3.org/2000/svg\" height=\"24px\" viewBox=\"0 -960 960 960\">\n",
              "    <path d=\"M120-120v-720h720v720H120Zm60-500h600v-160H180v160Zm220 220h160v-160H400v160Zm0 220h160v-160H400v160ZM180-400h160v-160H180v160Zm440 0h160v-160H620v160ZM180-180h160v-160H180v160Zm440 0h160v-160H620v160Z\"/>\n",
              "  </svg>\n",
              "    </button>\n",
              "\n",
              "  <style>\n",
              "    .colab-df-container {\n",
              "      display:flex;\n",
              "      gap: 12px;\n",
              "    }\n",
              "\n",
              "    .colab-df-convert {\n",
              "      background-color: #E8F0FE;\n",
              "      border: none;\n",
              "      border-radius: 50%;\n",
              "      cursor: pointer;\n",
              "      display: none;\n",
              "      fill: #1967D2;\n",
              "      height: 32px;\n",
              "      padding: 0 0 0 0;\n",
              "      width: 32px;\n",
              "    }\n",
              "\n",
              "    .colab-df-convert:hover {\n",
              "      background-color: #E2EBFA;\n",
              "      box-shadow: 0px 1px 2px rgba(60, 64, 67, 0.3), 0px 1px 3px 1px rgba(60, 64, 67, 0.15);\n",
              "      fill: #174EA6;\n",
              "    }\n",
              "\n",
              "    .colab-df-buttons div {\n",
              "      margin-bottom: 4px;\n",
              "    }\n",
              "\n",
              "    [theme=dark] .colab-df-convert {\n",
              "      background-color: #3B4455;\n",
              "      fill: #D2E3FC;\n",
              "    }\n",
              "\n",
              "    [theme=dark] .colab-df-convert:hover {\n",
              "      background-color: #434B5C;\n",
              "      box-shadow: 0px 1px 3px 1px rgba(0, 0, 0, 0.15);\n",
              "      filter: drop-shadow(0px 1px 2px rgba(0, 0, 0, 0.3));\n",
              "      fill: #FFFFFF;\n",
              "    }\n",
              "  </style>\n",
              "\n",
              "    <script>\n",
              "      const buttonEl =\n",
              "        document.querySelector('#df-af9817d8-d0c9-4337-9988-80f2fda7d9e8 button.colab-df-convert');\n",
              "      buttonEl.style.display =\n",
              "        google.colab.kernel.accessAllowed ? 'block' : 'none';\n",
              "\n",
              "      async function convertToInteractive(key) {\n",
              "        const element = document.querySelector('#df-af9817d8-d0c9-4337-9988-80f2fda7d9e8');\n",
              "        const dataTable =\n",
              "          await google.colab.kernel.invokeFunction('convertToInteractive',\n",
              "                                                    [key], {});\n",
              "        if (!dataTable) return;\n",
              "\n",
              "        const docLinkHtml = 'Like what you see? Visit the ' +\n",
              "          '<a target=\"_blank\" href=https://colab.research.google.com/notebooks/data_table.ipynb>data table notebook</a>'\n",
              "          + ' to learn more about interactive tables.';\n",
              "        element.innerHTML = '';\n",
              "        dataTable['output_type'] = 'display_data';\n",
              "        await google.colab.output.renderOutput(dataTable, element);\n",
              "        const docLink = document.createElement('div');\n",
              "        docLink.innerHTML = docLinkHtml;\n",
              "        element.appendChild(docLink);\n",
              "      }\n",
              "    </script>\n",
              "  </div>\n",
              "\n",
              "\n",
              "<div id=\"df-48032693-aece-4256-8344-66f25213bd84\">\n",
              "  <button class=\"colab-df-quickchart\" onclick=\"quickchart('df-48032693-aece-4256-8344-66f25213bd84')\"\n",
              "            title=\"Suggest charts.\"\n",
              "            style=\"display:none;\">\n",
              "\n",
              "<svg xmlns=\"http://www.w3.org/2000/svg\" height=\"24px\"viewBox=\"0 0 24 24\"\n",
              "     width=\"24px\">\n",
              "    <g>\n",
              "        <path d=\"M19 3H5c-1.1 0-2 .9-2 2v14c0 1.1.9 2 2 2h14c1.1 0 2-.9 2-2V5c0-1.1-.9-2-2-2zM9 17H7v-7h2v7zm4 0h-2V7h2v10zm4 0h-2v-4h2v4z\"/>\n",
              "    </g>\n",
              "</svg>\n",
              "  </button>\n",
              "\n",
              "<style>\n",
              "  .colab-df-quickchart {\n",
              "      --bg-color: #E8F0FE;\n",
              "      --fill-color: #1967D2;\n",
              "      --hover-bg-color: #E2EBFA;\n",
              "      --hover-fill-color: #174EA6;\n",
              "      --disabled-fill-color: #AAA;\n",
              "      --disabled-bg-color: #DDD;\n",
              "  }\n",
              "\n",
              "  [theme=dark] .colab-df-quickchart {\n",
              "      --bg-color: #3B4455;\n",
              "      --fill-color: #D2E3FC;\n",
              "      --hover-bg-color: #434B5C;\n",
              "      --hover-fill-color: #FFFFFF;\n",
              "      --disabled-bg-color: #3B4455;\n",
              "      --disabled-fill-color: #666;\n",
              "  }\n",
              "\n",
              "  .colab-df-quickchart {\n",
              "    background-color: var(--bg-color);\n",
              "    border: none;\n",
              "    border-radius: 50%;\n",
              "    cursor: pointer;\n",
              "    display: none;\n",
              "    fill: var(--fill-color);\n",
              "    height: 32px;\n",
              "    padding: 0;\n",
              "    width: 32px;\n",
              "  }\n",
              "\n",
              "  .colab-df-quickchart:hover {\n",
              "    background-color: var(--hover-bg-color);\n",
              "    box-shadow: 0 1px 2px rgba(60, 64, 67, 0.3), 0 1px 3px 1px rgba(60, 64, 67, 0.15);\n",
              "    fill: var(--button-hover-fill-color);\n",
              "  }\n",
              "\n",
              "  .colab-df-quickchart-complete:disabled,\n",
              "  .colab-df-quickchart-complete:disabled:hover {\n",
              "    background-color: var(--disabled-bg-color);\n",
              "    fill: var(--disabled-fill-color);\n",
              "    box-shadow: none;\n",
              "  }\n",
              "\n",
              "  .colab-df-spinner {\n",
              "    border: 2px solid var(--fill-color);\n",
              "    border-color: transparent;\n",
              "    border-bottom-color: var(--fill-color);\n",
              "    animation:\n",
              "      spin 1s steps(1) infinite;\n",
              "  }\n",
              "\n",
              "  @keyframes spin {\n",
              "    0% {\n",
              "      border-color: transparent;\n",
              "      border-bottom-color: var(--fill-color);\n",
              "      border-left-color: var(--fill-color);\n",
              "    }\n",
              "    20% {\n",
              "      border-color: transparent;\n",
              "      border-left-color: var(--fill-color);\n",
              "      border-top-color: var(--fill-color);\n",
              "    }\n",
              "    30% {\n",
              "      border-color: transparent;\n",
              "      border-left-color: var(--fill-color);\n",
              "      border-top-color: var(--fill-color);\n",
              "      border-right-color: var(--fill-color);\n",
              "    }\n",
              "    40% {\n",
              "      border-color: transparent;\n",
              "      border-right-color: var(--fill-color);\n",
              "      border-top-color: var(--fill-color);\n",
              "    }\n",
              "    60% {\n",
              "      border-color: transparent;\n",
              "      border-right-color: var(--fill-color);\n",
              "    }\n",
              "    80% {\n",
              "      border-color: transparent;\n",
              "      border-right-color: var(--fill-color);\n",
              "      border-bottom-color: var(--fill-color);\n",
              "    }\n",
              "    90% {\n",
              "      border-color: transparent;\n",
              "      border-bottom-color: var(--fill-color);\n",
              "    }\n",
              "  }\n",
              "</style>\n",
              "\n",
              "  <script>\n",
              "    async function quickchart(key) {\n",
              "      const quickchartButtonEl =\n",
              "        document.querySelector('#' + key + ' button');\n",
              "      quickchartButtonEl.disabled = true;  // To prevent multiple clicks.\n",
              "      quickchartButtonEl.classList.add('colab-df-spinner');\n",
              "      try {\n",
              "        const charts = await google.colab.kernel.invokeFunction(\n",
              "            'suggestCharts', [key], {});\n",
              "      } catch (error) {\n",
              "        console.error('Error during call to suggestCharts:', error);\n",
              "      }\n",
              "      quickchartButtonEl.classList.remove('colab-df-spinner');\n",
              "      quickchartButtonEl.classList.add('colab-df-quickchart-complete');\n",
              "    }\n",
              "    (() => {\n",
              "      let quickchartButtonEl =\n",
              "        document.querySelector('#df-48032693-aece-4256-8344-66f25213bd84 button');\n",
              "      quickchartButtonEl.style.display =\n",
              "        google.colab.kernel.accessAllowed ? 'block' : 'none';\n",
              "    })();\n",
              "  </script>\n",
              "</div>\n",
              "    </div>\n",
              "  </div>\n"
            ]
          },
          "metadata": {},
          "execution_count": 7
        }
      ],
      "source": [
        "data_sentiment = read_ods('/content/drive/MyDrive/NLP Project/Sentiment data/hi_3500.ods',1,headers = False)\n",
        "data_sentiment.columns = ['text','sentiment']\n",
        "\n",
        "data_sentiment.head()"
      ]
    },
    {
      "cell_type": "code",
      "execution_count": null,
      "metadata": {
        "colab": {
          "base_uri": "https://localhost:8080/",
          "height": 423
        },
        "id": "LQJloTYFgdHC",
        "outputId": "bcb85f0e-3f20-4e97-db12-bba35e4f5676"
      },
      "outputs": [
        {
          "output_type": "execute_result",
          "data": {
            "text/plain": [
              "                                                   text sentiment\n",
              "0     लोग वतन तक खा जाते हैं इसका इसे यकीन नहींमान ज...  negative\n",
              "1     गुमनाम है वतन पर मिटने वाले लोग आतन्कवादियों स...  negative\n",
              "2     ज़ंजीर बदली जा रही थी मैं समझा था रिहाई हो गयी है  negative\n",
              "3     यूपी में बड़े स्तर पर दंगे करवा सकती है बीजेपी...  negative\n",
              "4     अंग्रेजी नहीं आती है इसलिए हिन्दी ट्विट ज्यादा...  negative\n",
              "...                                                 ...       ...\n",
              "9072  RT @aajtak: #Mojo बजरंग बली का सबसे विशालकाय र...   neutral\n",
              "9073  RT @aajtak: कहां अचानक स्कूल में पड़ा मंत्री क...   neutral\n",
              "9074  RT @aajtak: #MoJo सुनिए कुलभूषण की दर्दभरी आपब...   neutral\n",
              "9075  RT @aajtak: लव जेहाद के नाम पर क्या उत्तर प्रद...   neutral\n",
              "9076  कश्मीर में हमारे जवानों से ऐसा सलूक? वीडियो दे...   neutral\n",
              "\n",
              "[9077 rows x 2 columns]"
            ],
            "text/html": [
              "\n",
              "  <div id=\"df-d74c80fe-a641-4d0e-a82e-ddcd871891dc\" class=\"colab-df-container\">\n",
              "    <div>\n",
              "<style scoped>\n",
              "    .dataframe tbody tr th:only-of-type {\n",
              "        vertical-align: middle;\n",
              "    }\n",
              "\n",
              "    .dataframe tbody tr th {\n",
              "        vertical-align: top;\n",
              "    }\n",
              "\n",
              "    .dataframe thead th {\n",
              "        text-align: right;\n",
              "    }\n",
              "</style>\n",
              "<table border=\"1\" class=\"dataframe\">\n",
              "  <thead>\n",
              "    <tr style=\"text-align: right;\">\n",
              "      <th></th>\n",
              "      <th>text</th>\n",
              "      <th>sentiment</th>\n",
              "    </tr>\n",
              "  </thead>\n",
              "  <tbody>\n",
              "    <tr>\n",
              "      <th>0</th>\n",
              "      <td>लोग वतन तक खा जाते हैं इसका इसे यकीन नहींमान ज...</td>\n",
              "      <td>negative</td>\n",
              "    </tr>\n",
              "    <tr>\n",
              "      <th>1</th>\n",
              "      <td>गुमनाम है वतन पर मिटने वाले लोग आतन्कवादियों स...</td>\n",
              "      <td>negative</td>\n",
              "    </tr>\n",
              "    <tr>\n",
              "      <th>2</th>\n",
              "      <td>ज़ंजीर बदली जा रही थी मैं समझा था रिहाई हो गयी है</td>\n",
              "      <td>negative</td>\n",
              "    </tr>\n",
              "    <tr>\n",
              "      <th>3</th>\n",
              "      <td>यूपी में बड़े स्तर पर दंगे करवा सकती है बीजेपी...</td>\n",
              "      <td>negative</td>\n",
              "    </tr>\n",
              "    <tr>\n",
              "      <th>4</th>\n",
              "      <td>अंग्रेजी नहीं आती है इसलिए हिन्दी ट्विट ज्यादा...</td>\n",
              "      <td>negative</td>\n",
              "    </tr>\n",
              "    <tr>\n",
              "      <th>...</th>\n",
              "      <td>...</td>\n",
              "      <td>...</td>\n",
              "    </tr>\n",
              "    <tr>\n",
              "      <th>9072</th>\n",
              "      <td>RT @aajtak: #Mojo बजरंग बली का सबसे विशालकाय र...</td>\n",
              "      <td>neutral</td>\n",
              "    </tr>\n",
              "    <tr>\n",
              "      <th>9073</th>\n",
              "      <td>RT @aajtak: कहां अचानक स्कूल में पड़ा मंत्री क...</td>\n",
              "      <td>neutral</td>\n",
              "    </tr>\n",
              "    <tr>\n",
              "      <th>9074</th>\n",
              "      <td>RT @aajtak: #MoJo सुनिए कुलभूषण की दर्दभरी आपब...</td>\n",
              "      <td>neutral</td>\n",
              "    </tr>\n",
              "    <tr>\n",
              "      <th>9075</th>\n",
              "      <td>RT @aajtak: लव जेहाद के नाम पर क्या उत्तर प्रद...</td>\n",
              "      <td>neutral</td>\n",
              "    </tr>\n",
              "    <tr>\n",
              "      <th>9076</th>\n",
              "      <td>कश्मीर में हमारे जवानों से ऐसा सलूक? वीडियो दे...</td>\n",
              "      <td>neutral</td>\n",
              "    </tr>\n",
              "  </tbody>\n",
              "</table>\n",
              "<p>9077 rows × 2 columns</p>\n",
              "</div>\n",
              "    <div class=\"colab-df-buttons\">\n",
              "\n",
              "  <div class=\"colab-df-container\">\n",
              "    <button class=\"colab-df-convert\" onclick=\"convertToInteractive('df-d74c80fe-a641-4d0e-a82e-ddcd871891dc')\"\n",
              "            title=\"Convert this dataframe to an interactive table.\"\n",
              "            style=\"display:none;\">\n",
              "\n",
              "  <svg xmlns=\"http://www.w3.org/2000/svg\" height=\"24px\" viewBox=\"0 -960 960 960\">\n",
              "    <path d=\"M120-120v-720h720v720H120Zm60-500h600v-160H180v160Zm220 220h160v-160H400v160Zm0 220h160v-160H400v160ZM180-400h160v-160H180v160Zm440 0h160v-160H620v160ZM180-180h160v-160H180v160Zm440 0h160v-160H620v160Z\"/>\n",
              "  </svg>\n",
              "    </button>\n",
              "\n",
              "  <style>\n",
              "    .colab-df-container {\n",
              "      display:flex;\n",
              "      gap: 12px;\n",
              "    }\n",
              "\n",
              "    .colab-df-convert {\n",
              "      background-color: #E8F0FE;\n",
              "      border: none;\n",
              "      border-radius: 50%;\n",
              "      cursor: pointer;\n",
              "      display: none;\n",
              "      fill: #1967D2;\n",
              "      height: 32px;\n",
              "      padding: 0 0 0 0;\n",
              "      width: 32px;\n",
              "    }\n",
              "\n",
              "    .colab-df-convert:hover {\n",
              "      background-color: #E2EBFA;\n",
              "      box-shadow: 0px 1px 2px rgba(60, 64, 67, 0.3), 0px 1px 3px 1px rgba(60, 64, 67, 0.15);\n",
              "      fill: #174EA6;\n",
              "    }\n",
              "\n",
              "    .colab-df-buttons div {\n",
              "      margin-bottom: 4px;\n",
              "    }\n",
              "\n",
              "    [theme=dark] .colab-df-convert {\n",
              "      background-color: #3B4455;\n",
              "      fill: #D2E3FC;\n",
              "    }\n",
              "\n",
              "    [theme=dark] .colab-df-convert:hover {\n",
              "      background-color: #434B5C;\n",
              "      box-shadow: 0px 1px 3px 1px rgba(0, 0, 0, 0.15);\n",
              "      filter: drop-shadow(0px 1px 2px rgba(0, 0, 0, 0.3));\n",
              "      fill: #FFFFFF;\n",
              "    }\n",
              "  </style>\n",
              "\n",
              "    <script>\n",
              "      const buttonEl =\n",
              "        document.querySelector('#df-d74c80fe-a641-4d0e-a82e-ddcd871891dc button.colab-df-convert');\n",
              "      buttonEl.style.display =\n",
              "        google.colab.kernel.accessAllowed ? 'block' : 'none';\n",
              "\n",
              "      async function convertToInteractive(key) {\n",
              "        const element = document.querySelector('#df-d74c80fe-a641-4d0e-a82e-ddcd871891dc');\n",
              "        const dataTable =\n",
              "          await google.colab.kernel.invokeFunction('convertToInteractive',\n",
              "                                                    [key], {});\n",
              "        if (!dataTable) return;\n",
              "\n",
              "        const docLinkHtml = 'Like what you see? Visit the ' +\n",
              "          '<a target=\"_blank\" href=https://colab.research.google.com/notebooks/data_table.ipynb>data table notebook</a>'\n",
              "          + ' to learn more about interactive tables.';\n",
              "        element.innerHTML = '';\n",
              "        dataTable['output_type'] = 'display_data';\n",
              "        await google.colab.output.renderOutput(dataTable, element);\n",
              "        const docLink = document.createElement('div');\n",
              "        docLink.innerHTML = docLinkHtml;\n",
              "        element.appendChild(docLink);\n",
              "      }\n",
              "    </script>\n",
              "  </div>\n",
              "\n",
              "\n",
              "<div id=\"df-c5dcaf0f-8c52-4e31-a5e8-bb57bbf0ef73\">\n",
              "  <button class=\"colab-df-quickchart\" onclick=\"quickchart('df-c5dcaf0f-8c52-4e31-a5e8-bb57bbf0ef73')\"\n",
              "            title=\"Suggest charts.\"\n",
              "            style=\"display:none;\">\n",
              "\n",
              "<svg xmlns=\"http://www.w3.org/2000/svg\" height=\"24px\"viewBox=\"0 0 24 24\"\n",
              "     width=\"24px\">\n",
              "    <g>\n",
              "        <path d=\"M19 3H5c-1.1 0-2 .9-2 2v14c0 1.1.9 2 2 2h14c1.1 0 2-.9 2-2V5c0-1.1-.9-2-2-2zM9 17H7v-7h2v7zm4 0h-2V7h2v10zm4 0h-2v-4h2v4z\"/>\n",
              "    </g>\n",
              "</svg>\n",
              "  </button>\n",
              "\n",
              "<style>\n",
              "  .colab-df-quickchart {\n",
              "      --bg-color: #E8F0FE;\n",
              "      --fill-color: #1967D2;\n",
              "      --hover-bg-color: #E2EBFA;\n",
              "      --hover-fill-color: #174EA6;\n",
              "      --disabled-fill-color: #AAA;\n",
              "      --disabled-bg-color: #DDD;\n",
              "  }\n",
              "\n",
              "  [theme=dark] .colab-df-quickchart {\n",
              "      --bg-color: #3B4455;\n",
              "      --fill-color: #D2E3FC;\n",
              "      --hover-bg-color: #434B5C;\n",
              "      --hover-fill-color: #FFFFFF;\n",
              "      --disabled-bg-color: #3B4455;\n",
              "      --disabled-fill-color: #666;\n",
              "  }\n",
              "\n",
              "  .colab-df-quickchart {\n",
              "    background-color: var(--bg-color);\n",
              "    border: none;\n",
              "    border-radius: 50%;\n",
              "    cursor: pointer;\n",
              "    display: none;\n",
              "    fill: var(--fill-color);\n",
              "    height: 32px;\n",
              "    padding: 0;\n",
              "    width: 32px;\n",
              "  }\n",
              "\n",
              "  .colab-df-quickchart:hover {\n",
              "    background-color: var(--hover-bg-color);\n",
              "    box-shadow: 0 1px 2px rgba(60, 64, 67, 0.3), 0 1px 3px 1px rgba(60, 64, 67, 0.15);\n",
              "    fill: var(--button-hover-fill-color);\n",
              "  }\n",
              "\n",
              "  .colab-df-quickchart-complete:disabled,\n",
              "  .colab-df-quickchart-complete:disabled:hover {\n",
              "    background-color: var(--disabled-bg-color);\n",
              "    fill: var(--disabled-fill-color);\n",
              "    box-shadow: none;\n",
              "  }\n",
              "\n",
              "  .colab-df-spinner {\n",
              "    border: 2px solid var(--fill-color);\n",
              "    border-color: transparent;\n",
              "    border-bottom-color: var(--fill-color);\n",
              "    animation:\n",
              "      spin 1s steps(1) infinite;\n",
              "  }\n",
              "\n",
              "  @keyframes spin {\n",
              "    0% {\n",
              "      border-color: transparent;\n",
              "      border-bottom-color: var(--fill-color);\n",
              "      border-left-color: var(--fill-color);\n",
              "    }\n",
              "    20% {\n",
              "      border-color: transparent;\n",
              "      border-left-color: var(--fill-color);\n",
              "      border-top-color: var(--fill-color);\n",
              "    }\n",
              "    30% {\n",
              "      border-color: transparent;\n",
              "      border-left-color: var(--fill-color);\n",
              "      border-top-color: var(--fill-color);\n",
              "      border-right-color: var(--fill-color);\n",
              "    }\n",
              "    40% {\n",
              "      border-color: transparent;\n",
              "      border-right-color: var(--fill-color);\n",
              "      border-top-color: var(--fill-color);\n",
              "    }\n",
              "    60% {\n",
              "      border-color: transparent;\n",
              "      border-right-color: var(--fill-color);\n",
              "    }\n",
              "    80% {\n",
              "      border-color: transparent;\n",
              "      border-right-color: var(--fill-color);\n",
              "      border-bottom-color: var(--fill-color);\n",
              "    }\n",
              "    90% {\n",
              "      border-color: transparent;\n",
              "      border-bottom-color: var(--fill-color);\n",
              "    }\n",
              "  }\n",
              "</style>\n",
              "\n",
              "  <script>\n",
              "    async function quickchart(key) {\n",
              "      const quickchartButtonEl =\n",
              "        document.querySelector('#' + key + ' button');\n",
              "      quickchartButtonEl.disabled = true;  // To prevent multiple clicks.\n",
              "      quickchartButtonEl.classList.add('colab-df-spinner');\n",
              "      try {\n",
              "        const charts = await google.colab.kernel.invokeFunction(\n",
              "            'suggestCharts', [key], {});\n",
              "      } catch (error) {\n",
              "        console.error('Error during call to suggestCharts:', error);\n",
              "      }\n",
              "      quickchartButtonEl.classList.remove('colab-df-spinner');\n",
              "      quickchartButtonEl.classList.add('colab-df-quickchart-complete');\n",
              "    }\n",
              "    (() => {\n",
              "      let quickchartButtonEl =\n",
              "        document.querySelector('#df-c5dcaf0f-8c52-4e31-a5e8-bb57bbf0ef73 button');\n",
              "      quickchartButtonEl.style.display =\n",
              "        google.colab.kernel.accessAllowed ? 'block' : 'none';\n",
              "    })();\n",
              "  </script>\n",
              "</div>\n",
              "    </div>\n",
              "  </div>\n"
            ]
          },
          "metadata": {},
          "execution_count": 8
        }
      ],
      "source": [
        "data_sentiment.dropna()\n",
        "# data_sentiment_test.dropna()"
      ]
    },
    {
      "cell_type": "code",
      "execution_count": null,
      "metadata": {
        "id": "0X8lyWYWJ5M5"
      },
      "outputs": [],
      "source": [
        "# Define a function to remove English words, numeric characters, and specific special characters\n",
        "def clean_hindi_text(text):\n",
        "    words = nltk.word_tokenize(text)\n",
        "    cleaned_words = []\n",
        "    for word in words:\n",
        "        if not re.match(\"^[A-Za-z]*$\", word) and not bool(re.search(r'[0-9०-९]', word)):\n",
        "            # Specify special characters to remove (e.g., @, ., ,, #, &)\n",
        "            word = re.sub(r'[.,@#&:)(]', '', word)\n",
        "            cleaned_words.append(word)\n",
        "    return ' '.join(cleaned_words)"
      ]
    },
    {
      "cell_type": "code",
      "execution_count": null,
      "metadata": {
        "colab": {
          "base_uri": "https://localhost:8080/",
          "height": 423
        },
        "id": "6QtNaFsfJ71n",
        "outputId": "8d3b12be-e73b-4214-8040-057d20f2db4e"
      },
      "outputs": [
        {
          "output_type": "execute_result",
          "data": {
            "text/plain": [
              "                                                   text sentiment\n",
              "0     लोग वतन तक खा जाते हैं इसका इसे यकीन नहींमान ज...  negative\n",
              "1     गुमनाम है वतन पर मिटने वाले लोग आतन्कवादियों स...  negative\n",
              "2     ज़ंजीर बदली जा रही थी मैं समझा था रिहाई हो गयी है  negative\n",
              "3     यूपी में बड़े स्तर पर दंगे करवा सकती है बीजेपी...  negative\n",
              "4     अंग्रेजी नहीं आती है इसलिए हिन्दी ट्विट ज्यादा...  negative\n",
              "...                                                 ...       ...\n",
              "9072     बजरंग बली का सबसे विशालकाय रूप  कीजिए ' साक...   neutral\n",
              "9073    कहां अचानक स्कूल में पड़ा मंत्री का छापा ? फ...   neutral\n",
              "9074     सुनिए कुलभूषण की दर्दभरी आपबीती  अन्य वीडिय...   neutral\n",
              "9075    लव जेहाद के नाम पर क्या उत्तर प्रदेश में हो ...   neutral\n",
              "9076  कश्मीर में हमारे जवानों से ऐसा सलूक ? वीडियो द...   neutral\n",
              "\n",
              "[9077 rows x 2 columns]"
            ],
            "text/html": [
              "\n",
              "  <div id=\"df-70b898f1-b91d-4147-9c96-1e9a4ebf4c0b\" class=\"colab-df-container\">\n",
              "    <div>\n",
              "<style scoped>\n",
              "    .dataframe tbody tr th:only-of-type {\n",
              "        vertical-align: middle;\n",
              "    }\n",
              "\n",
              "    .dataframe tbody tr th {\n",
              "        vertical-align: top;\n",
              "    }\n",
              "\n",
              "    .dataframe thead th {\n",
              "        text-align: right;\n",
              "    }\n",
              "</style>\n",
              "<table border=\"1\" class=\"dataframe\">\n",
              "  <thead>\n",
              "    <tr style=\"text-align: right;\">\n",
              "      <th></th>\n",
              "      <th>text</th>\n",
              "      <th>sentiment</th>\n",
              "    </tr>\n",
              "  </thead>\n",
              "  <tbody>\n",
              "    <tr>\n",
              "      <th>0</th>\n",
              "      <td>लोग वतन तक खा जाते हैं इसका इसे यकीन नहींमान ज...</td>\n",
              "      <td>negative</td>\n",
              "    </tr>\n",
              "    <tr>\n",
              "      <th>1</th>\n",
              "      <td>गुमनाम है वतन पर मिटने वाले लोग आतन्कवादियों स...</td>\n",
              "      <td>negative</td>\n",
              "    </tr>\n",
              "    <tr>\n",
              "      <th>2</th>\n",
              "      <td>ज़ंजीर बदली जा रही थी मैं समझा था रिहाई हो गयी है</td>\n",
              "      <td>negative</td>\n",
              "    </tr>\n",
              "    <tr>\n",
              "      <th>3</th>\n",
              "      <td>यूपी में बड़े स्तर पर दंगे करवा सकती है बीजेपी...</td>\n",
              "      <td>negative</td>\n",
              "    </tr>\n",
              "    <tr>\n",
              "      <th>4</th>\n",
              "      <td>अंग्रेजी नहीं आती है इसलिए हिन्दी ट्विट ज्यादा...</td>\n",
              "      <td>negative</td>\n",
              "    </tr>\n",
              "    <tr>\n",
              "      <th>...</th>\n",
              "      <td>...</td>\n",
              "      <td>...</td>\n",
              "    </tr>\n",
              "    <tr>\n",
              "      <th>9072</th>\n",
              "      <td>बजरंग बली का सबसे विशालकाय रूप  कीजिए ' साक...</td>\n",
              "      <td>neutral</td>\n",
              "    </tr>\n",
              "    <tr>\n",
              "      <th>9073</th>\n",
              "      <td>कहां अचानक स्कूल में पड़ा मंत्री का छापा ? फ...</td>\n",
              "      <td>neutral</td>\n",
              "    </tr>\n",
              "    <tr>\n",
              "      <th>9074</th>\n",
              "      <td>सुनिए कुलभूषण की दर्दभरी आपबीती  अन्य वीडिय...</td>\n",
              "      <td>neutral</td>\n",
              "    </tr>\n",
              "    <tr>\n",
              "      <th>9075</th>\n",
              "      <td>लव जेहाद के नाम पर क्या उत्तर प्रदेश में हो ...</td>\n",
              "      <td>neutral</td>\n",
              "    </tr>\n",
              "    <tr>\n",
              "      <th>9076</th>\n",
              "      <td>कश्मीर में हमारे जवानों से ऐसा सलूक ? वीडियो द...</td>\n",
              "      <td>neutral</td>\n",
              "    </tr>\n",
              "  </tbody>\n",
              "</table>\n",
              "<p>9077 rows × 2 columns</p>\n",
              "</div>\n",
              "    <div class=\"colab-df-buttons\">\n",
              "\n",
              "  <div class=\"colab-df-container\">\n",
              "    <button class=\"colab-df-convert\" onclick=\"convertToInteractive('df-70b898f1-b91d-4147-9c96-1e9a4ebf4c0b')\"\n",
              "            title=\"Convert this dataframe to an interactive table.\"\n",
              "            style=\"display:none;\">\n",
              "\n",
              "  <svg xmlns=\"http://www.w3.org/2000/svg\" height=\"24px\" viewBox=\"0 -960 960 960\">\n",
              "    <path d=\"M120-120v-720h720v720H120Zm60-500h600v-160H180v160Zm220 220h160v-160H400v160Zm0 220h160v-160H400v160ZM180-400h160v-160H180v160Zm440 0h160v-160H620v160ZM180-180h160v-160H180v160Zm440 0h160v-160H620v160Z\"/>\n",
              "  </svg>\n",
              "    </button>\n",
              "\n",
              "  <style>\n",
              "    .colab-df-container {\n",
              "      display:flex;\n",
              "      gap: 12px;\n",
              "    }\n",
              "\n",
              "    .colab-df-convert {\n",
              "      background-color: #E8F0FE;\n",
              "      border: none;\n",
              "      border-radius: 50%;\n",
              "      cursor: pointer;\n",
              "      display: none;\n",
              "      fill: #1967D2;\n",
              "      height: 32px;\n",
              "      padding: 0 0 0 0;\n",
              "      width: 32px;\n",
              "    }\n",
              "\n",
              "    .colab-df-convert:hover {\n",
              "      background-color: #E2EBFA;\n",
              "      box-shadow: 0px 1px 2px rgba(60, 64, 67, 0.3), 0px 1px 3px 1px rgba(60, 64, 67, 0.15);\n",
              "      fill: #174EA6;\n",
              "    }\n",
              "\n",
              "    .colab-df-buttons div {\n",
              "      margin-bottom: 4px;\n",
              "    }\n",
              "\n",
              "    [theme=dark] .colab-df-convert {\n",
              "      background-color: #3B4455;\n",
              "      fill: #D2E3FC;\n",
              "    }\n",
              "\n",
              "    [theme=dark] .colab-df-convert:hover {\n",
              "      background-color: #434B5C;\n",
              "      box-shadow: 0px 1px 3px 1px rgba(0, 0, 0, 0.15);\n",
              "      filter: drop-shadow(0px 1px 2px rgba(0, 0, 0, 0.3));\n",
              "      fill: #FFFFFF;\n",
              "    }\n",
              "  </style>\n",
              "\n",
              "    <script>\n",
              "      const buttonEl =\n",
              "        document.querySelector('#df-70b898f1-b91d-4147-9c96-1e9a4ebf4c0b button.colab-df-convert');\n",
              "      buttonEl.style.display =\n",
              "        google.colab.kernel.accessAllowed ? 'block' : 'none';\n",
              "\n",
              "      async function convertToInteractive(key) {\n",
              "        const element = document.querySelector('#df-70b898f1-b91d-4147-9c96-1e9a4ebf4c0b');\n",
              "        const dataTable =\n",
              "          await google.colab.kernel.invokeFunction('convertToInteractive',\n",
              "                                                    [key], {});\n",
              "        if (!dataTable) return;\n",
              "\n",
              "        const docLinkHtml = 'Like what you see? Visit the ' +\n",
              "          '<a target=\"_blank\" href=https://colab.research.google.com/notebooks/data_table.ipynb>data table notebook</a>'\n",
              "          + ' to learn more about interactive tables.';\n",
              "        element.innerHTML = '';\n",
              "        dataTable['output_type'] = 'display_data';\n",
              "        await google.colab.output.renderOutput(dataTable, element);\n",
              "        const docLink = document.createElement('div');\n",
              "        docLink.innerHTML = docLinkHtml;\n",
              "        element.appendChild(docLink);\n",
              "      }\n",
              "    </script>\n",
              "  </div>\n",
              "\n",
              "\n",
              "<div id=\"df-2e5ce98d-c391-4102-9708-f43a291fa5f6\">\n",
              "  <button class=\"colab-df-quickchart\" onclick=\"quickchart('df-2e5ce98d-c391-4102-9708-f43a291fa5f6')\"\n",
              "            title=\"Suggest charts.\"\n",
              "            style=\"display:none;\">\n",
              "\n",
              "<svg xmlns=\"http://www.w3.org/2000/svg\" height=\"24px\"viewBox=\"0 0 24 24\"\n",
              "     width=\"24px\">\n",
              "    <g>\n",
              "        <path d=\"M19 3H5c-1.1 0-2 .9-2 2v14c0 1.1.9 2 2 2h14c1.1 0 2-.9 2-2V5c0-1.1-.9-2-2-2zM9 17H7v-7h2v7zm4 0h-2V7h2v10zm4 0h-2v-4h2v4z\"/>\n",
              "    </g>\n",
              "</svg>\n",
              "  </button>\n",
              "\n",
              "<style>\n",
              "  .colab-df-quickchart {\n",
              "      --bg-color: #E8F0FE;\n",
              "      --fill-color: #1967D2;\n",
              "      --hover-bg-color: #E2EBFA;\n",
              "      --hover-fill-color: #174EA6;\n",
              "      --disabled-fill-color: #AAA;\n",
              "      --disabled-bg-color: #DDD;\n",
              "  }\n",
              "\n",
              "  [theme=dark] .colab-df-quickchart {\n",
              "      --bg-color: #3B4455;\n",
              "      --fill-color: #D2E3FC;\n",
              "      --hover-bg-color: #434B5C;\n",
              "      --hover-fill-color: #FFFFFF;\n",
              "      --disabled-bg-color: #3B4455;\n",
              "      --disabled-fill-color: #666;\n",
              "  }\n",
              "\n",
              "  .colab-df-quickchart {\n",
              "    background-color: var(--bg-color);\n",
              "    border: none;\n",
              "    border-radius: 50%;\n",
              "    cursor: pointer;\n",
              "    display: none;\n",
              "    fill: var(--fill-color);\n",
              "    height: 32px;\n",
              "    padding: 0;\n",
              "    width: 32px;\n",
              "  }\n",
              "\n",
              "  .colab-df-quickchart:hover {\n",
              "    background-color: var(--hover-bg-color);\n",
              "    box-shadow: 0 1px 2px rgba(60, 64, 67, 0.3), 0 1px 3px 1px rgba(60, 64, 67, 0.15);\n",
              "    fill: var(--button-hover-fill-color);\n",
              "  }\n",
              "\n",
              "  .colab-df-quickchart-complete:disabled,\n",
              "  .colab-df-quickchart-complete:disabled:hover {\n",
              "    background-color: var(--disabled-bg-color);\n",
              "    fill: var(--disabled-fill-color);\n",
              "    box-shadow: none;\n",
              "  }\n",
              "\n",
              "  .colab-df-spinner {\n",
              "    border: 2px solid var(--fill-color);\n",
              "    border-color: transparent;\n",
              "    border-bottom-color: var(--fill-color);\n",
              "    animation:\n",
              "      spin 1s steps(1) infinite;\n",
              "  }\n",
              "\n",
              "  @keyframes spin {\n",
              "    0% {\n",
              "      border-color: transparent;\n",
              "      border-bottom-color: var(--fill-color);\n",
              "      border-left-color: var(--fill-color);\n",
              "    }\n",
              "    20% {\n",
              "      border-color: transparent;\n",
              "      border-left-color: var(--fill-color);\n",
              "      border-top-color: var(--fill-color);\n",
              "    }\n",
              "    30% {\n",
              "      border-color: transparent;\n",
              "      border-left-color: var(--fill-color);\n",
              "      border-top-color: var(--fill-color);\n",
              "      border-right-color: var(--fill-color);\n",
              "    }\n",
              "    40% {\n",
              "      border-color: transparent;\n",
              "      border-right-color: var(--fill-color);\n",
              "      border-top-color: var(--fill-color);\n",
              "    }\n",
              "    60% {\n",
              "      border-color: transparent;\n",
              "      border-right-color: var(--fill-color);\n",
              "    }\n",
              "    80% {\n",
              "      border-color: transparent;\n",
              "      border-right-color: var(--fill-color);\n",
              "      border-bottom-color: var(--fill-color);\n",
              "    }\n",
              "    90% {\n",
              "      border-color: transparent;\n",
              "      border-bottom-color: var(--fill-color);\n",
              "    }\n",
              "  }\n",
              "</style>\n",
              "\n",
              "  <script>\n",
              "    async function quickchart(key) {\n",
              "      const quickchartButtonEl =\n",
              "        document.querySelector('#' + key + ' button');\n",
              "      quickchartButtonEl.disabled = true;  // To prevent multiple clicks.\n",
              "      quickchartButtonEl.classList.add('colab-df-spinner');\n",
              "      try {\n",
              "        const charts = await google.colab.kernel.invokeFunction(\n",
              "            'suggestCharts', [key], {});\n",
              "      } catch (error) {\n",
              "        console.error('Error during call to suggestCharts:', error);\n",
              "      }\n",
              "      quickchartButtonEl.classList.remove('colab-df-spinner');\n",
              "      quickchartButtonEl.classList.add('colab-df-quickchart-complete');\n",
              "    }\n",
              "    (() => {\n",
              "      let quickchartButtonEl =\n",
              "        document.querySelector('#df-2e5ce98d-c391-4102-9708-f43a291fa5f6 button');\n",
              "      quickchartButtonEl.style.display =\n",
              "        google.colab.kernel.accessAllowed ? 'block' : 'none';\n",
              "    })();\n",
              "  </script>\n",
              "</div>\n",
              "    </div>\n",
              "  </div>\n"
            ]
          },
          "metadata": {},
          "execution_count": 10
        }
      ],
      "source": [
        "data_sentiment['text'] = data_sentiment['text'].apply(clean_hindi_text)\n",
        "# data_sentiment_test['text'] = data_sentiment_test['text'].apply(clean_hindi_text)\n",
        "data_sentiment"
      ]
    },
    {
      "cell_type": "code",
      "execution_count": null,
      "metadata": {
        "id": "KT7qfz-YKh1_"
      },
      "outputs": [],
      "source": [
        "X = data_sentiment['text']\n",
        "y = data_sentiment['sentiment']"
      ]
    },
    {
      "cell_type": "code",
      "execution_count": null,
      "metadata": {
        "id": "K1bQ3PSZKyOT"
      },
      "outputs": [],
      "source": [
        "X_train, X_test, y_train, y_test = train_test_split( X, y, test_size=0.33, random_state=42)"
      ]
    },
    {
      "cell_type": "code",
      "execution_count": null,
      "metadata": {
        "id": "9dfx2duGghar"
      },
      "outputs": [],
      "source": [
        "# # Split the dataset into training and testing sets\n",
        "# X_train = data_sentiment_train['text']  # Your Hindi text data\n",
        "# X_test = data_sentiment_test['text']\n",
        "# y_train = data_sentiment_train['sentiment']  # Sentiment labels (e.g., positive, negative)\n",
        "# y_test = data_sentiment_test['sentiment']"
      ]
    },
    {
      "cell_type": "code",
      "execution_count": null,
      "metadata": {
        "id": "aJZs6MWTgyAb"
      },
      "outputs": [],
      "source": [
        "# Create TF-IDF vectors from the text data\n",
        "tfidf_vectorizer = TfidfVectorizer(ngram_range=(1, 2))\n",
        "X_train_tfidf = tfidf_vectorizer.fit_transform(X_train)\n",
        "X_test_tfidf = tfidf_vectorizer.transform(X_test)\n"
      ]
    },
    {
      "cell_type": "code",
      "execution_count": null,
      "metadata": {
        "colab": {
          "base_uri": "https://localhost:8080/"
        },
        "id": "zxYmrGXZg4lj",
        "outputId": "2f5ba8ec-d109-42a9-dabd-8a9a82b49371"
      },
      "outputs": [
        {
          "output_type": "stream",
          "name": "stdout",
          "text": [
            "Support Vector Machine (SVM) Classifier:\n",
            "Accuracy: 0.71\n",
            "              precision    recall  f1-score   support\n",
            "\n",
            "    negative       0.68      0.74      0.71      1065\n",
            "     neutral       0.75      0.69      0.72       886\n",
            "    positive       0.70      0.69      0.70      1045\n",
            "\n",
            "    accuracy                           0.71      2996\n",
            "   macro avg       0.71      0.71      0.71      2996\n",
            "weighted avg       0.71      0.71      0.71      2996\n",
            "\n"
          ]
        }
      ],
      "source": [
        "from sklearn.svm import SVC\n",
        "\n",
        "# Initialize and train a Support Vector Machine classifier for multiclass classification\n",
        "svm_classifier = SVC(kernel='linear', decision_function_shape='ovr', random_state=42)\n",
        "svm_classifier.fit(X_train_tfidf, y_train)\n",
        "\n",
        "# Predict sentiment on the test data\n",
        "y_pred_svm = svm_classifier.predict(X_test_tfidf)\n",
        "\n",
        "# Evaluate the SVM model\n",
        "accuracy_svm = accuracy_score(y_test, y_pred_svm)\n",
        "classification_rep_svm = classification_report(y_test, y_pred_svm)\n",
        "\n",
        "# Print evaluation metrics for SVM\n",
        "print(\"Support Vector Machine (SVM) Classifier:\")\n",
        "print(f\"Accuracy: {accuracy_svm:.2f}\")\n",
        "print(classification_rep_svm)\n"
      ]
    },
    {
      "cell_type": "code",
      "execution_count": null,
      "metadata": {
        "id": "ccLKUtzjFlu6"
      },
      "outputs": [],
      "source": [
        "# # Initialize and train a Random Forest classifier\n",
        "# rf_classifier = RandomForestClassifier(n_estimators=100, random_state=42)\n",
        "# rf_classifier.fit(X_train_tfidf, y_train)\n",
        "# # Predict sentiment on the test data\n",
        "# y_pred = rf_classifier.predict(X_test_tfidf)\n",
        "\n",
        "# # Evaluate the model\n",
        "# accuracy = accuracy_score(y_test, y_pred)\n",
        "# classification_rep = classification_report(y_test, y_pred)\n",
        "\n",
        "# # Print evaluation metrics\n",
        "# print(f\"Accuracy: {accuracy:.2f}\")\n",
        "# print(classification_rep)"
      ]
    },
    {
      "cell_type": "code",
      "execution_count": null,
      "metadata": {
        "id": "wUiurkT4Flnw"
      },
      "outputs": [],
      "source": [
        "# from sklearn.ensemble import GradientBoostingClassifier\n",
        "\n",
        "# # Initialize and train a Gradient Boosting classifier\n",
        "# gb_classifier = GradientBoostingClassifier(n_estimators=100, random_state=42)\n",
        "# gb_classifier.fit(X_train_tfidf, y_train)\n",
        "\n",
        "# # Predict sentiment on the test data\n",
        "# y_pred_gb = gb_classifier.predict(X_test_tfidf)\n",
        "\n",
        "# # Evaluate the Gradient Boosting model\n",
        "# accuracy_gb = accuracy_score(y_test, y_pred_gb)\n",
        "# classification_rep_gb = classification_report(y_test, y_pred_gb)\n",
        "\n",
        "# # Print evaluation metrics for Gradient Boosting\n",
        "# print(\"Gradient Boosting Classifier:\")\n",
        "# print(f\"Accuracy: {accuracy_gb:.2f}\")\n",
        "# print(classification_rep_gb)\n"
      ]
    },
    {
      "cell_type": "code",
      "execution_count": null,
      "metadata": {
        "id": "eTxbBzzuFliL"
      },
      "outputs": [],
      "source": [
        "# from sklearn.naive_bayes import MultinomialNB\n",
        "\n",
        "# # Initialize and train a Multinomial Naive Bayes classifier\n",
        "# nb_classifier = MultinomialNB()\n",
        "# nb_classifier.fit(X_train_tfidf, y_train)\n",
        "\n",
        "# # Predict sentiment on the test data\n",
        "# y_pred_nb = nb_classifier.predict(X_test_tfidf)\n",
        "\n",
        "# # Evaluate the Naive Bayes model\n",
        "# accuracy_nb = accuracy_score(y_test, y_pred_nb)\n",
        "# classification_rep_nb = classification_report(y_test, y_pred_nb)\n",
        "\n",
        "# # Print evaluation metrics for Naive Bayes\n",
        "# print(\"Multinomial Naive Bayes Classifier:\")\n",
        "# print(f\"Accuracy: {accuracy_nb:.2f}\")\n",
        "# print(classification_rep_nb)\n"
      ]
    },
    {
      "cell_type": "code",
      "execution_count": null,
      "metadata": {
        "id": "9iOk7_IRFldE"
      },
      "outputs": [],
      "source": []
    },
    {
      "cell_type": "markdown",
      "metadata": {
        "id": "6EvgMpsviKNp"
      },
      "source": [
        "*italicized text*# SVC on Fake news data for sentiment"
      ]
    },
    {
      "cell_type": "code",
      "execution_count": null,
      "metadata": {
        "id": "mS_VoYjpiPG4"
      },
      "outputs": [],
      "source": [
        "# train = pd.read_csv('/content/train (5).csv',encoding='utf-8-sig')\n",
        "# test = pd.read_csv('/content/test (2).csv',encoding='utf-8-sig')"
      ]
    },
    {
      "cell_type": "code",
      "source": [
        "train = pd.read_csv('/content/drive/MyDrive/NLP Project/Data/train.csv',encoding='utf-8-sig')\n",
        "test = pd.read_csv('/content/drive/MyDrive/NLP Project/Data/test.csv',encoding='utf-8-sig')"
      ],
      "metadata": {
        "id": "VL9kKsjwgqI-"
      },
      "execution_count": null,
      "outputs": []
    },
    {
      "cell_type": "code",
      "execution_count": null,
      "metadata": {
        "id": "py9AEb63jGFr"
      },
      "outputs": [],
      "source": [
        "train.drop(['Unnamed: 0','author','id'], inplace = True, axis = 1)\n",
        "test.drop(['Unnamed: 0','author','id'], inplace = True, axis = 1)"
      ]
    },
    {
      "cell_type": "code",
      "execution_count": null,
      "metadata": {
        "id": "E6mFC9W_jU_s"
      },
      "outputs": [],
      "source": [
        "train = train.dropna()\n",
        "test = test.dropna()"
      ]
    },
    {
      "cell_type": "code",
      "execution_count": null,
      "metadata": {
        "id": "xSUvcmPNjW4c"
      },
      "outputs": [],
      "source": [
        "hindi_stopwords = [\n",
        "    'अपना', 'अपनी', 'अपने', 'अभी', 'आदि', 'इस', 'इसके', 'इसको', 'इसमें', 'इससे',\n",
        "    'उनका', 'उनकी', 'उनके', 'उनको', 'उनका', 'उनकी', 'उनके', 'उनको', 'उन्हें', 'उसका',\n",
        "    'उसकी', 'उसके', 'उसको', 'उसमें', 'उसने', 'उसी', 'उसे', 'उसका', 'करता', 'करते',\n",
        "    'करना', 'करने', 'करें', 'कहते', 'कहा', 'का', 'कारण', 'किसी', 'की', 'कुछ', 'के',\n",
        "    'को', 'कोई', 'कौन', 'कौनसा', 'गया', 'घर', 'जब', 'जहाँ', 'जा', 'जितना', 'जिन',\n",
        "    'जिन्होंने', 'जिन्हों', 'जिस', 'जिसे', 'जी', 'जिसके', 'जिसको', 'जिसमें', 'जिसे', 'तक',\n",
        "    'तब', 'तरह', 'तिन', 'तिन्हें', 'तिन्हों', 'तिस', 'तिसे', 'था', 'थे', 'दिया', 'दूसरे',\n",
        "    'दो', 'द्वारा', 'ने', 'पर', 'पहले', 'पूरा', 'पूरी', 'फिर', 'बनी', 'बहुत', 'बाद',\n",
        "    'बाला', 'भी', 'मगर', 'मानो', 'मैं', 'मैंने', 'में', 'यदि', 'यह', 'यहाँ', 'यही',\n",
        "    'या', 'यिह', 'ये', 'रखें', 'रहा', 'रहे', 'लिए', 'लिया', 'लेकिन', 'व', 'वगेरह', 'वर्ग',\n",
        "    'वह', 'वहाँ', 'वही', 'वाले', 'वाली', 'वाला', 'वाले', 'वाली', 'वाला', 'वाले', 'वाली',\n",
        "    'वाला', 'सबसे', 'सबसे', 'सकता', 'सकते', 'सकती', 'सकती', 'सब', 'सबसे', 'से', 'ही',\n",
        "    'है', 'हैं', 'हुआ', 'हुई', 'हुए', 'हो', 'होता', 'होते', 'होती', 'होती', 'होते', 'होते',\n",
        "    'होती', 'होती', 'होती', 'होना', 'होने', 'अंदर', 'अदि', 'अन्य', 'अप', 'अफ', 'अल', 'अलब',\n",
        "    'अव', 'अवश्य', 'अस', 'आदि', 'आप', 'आपका', 'आपकी', 'आपके', 'आपने', 'आपने', 'आदि', 'आना',\n",
        "    'इंहोंने', 'इंहें', 'इंहों', 'इतना', 'इतनी', 'इतने', 'इन', 'इनका', 'इनकी', 'इनके', 'इन्ही',\n",
        "    'इन्होंने', 'इन्हें', 'इन्हों', 'इस', 'इसका', 'इसकी', 'इसके', 'इसी', 'उंहोंने', 'उंहें',\n",
        "    'उंहों', 'उपर', 'उसके', 'उससे', 'उसी', 'उसे', 'उसी', 'उसे', 'कर', 'करत', 'करता', 'करती',\n",
        "    'करते', 'करन', 'करना', 'करने', 'किया', 'किये', 'किये', 'किया', 'कुछ', 'कुल', 'के', 'को', 'को'\n",
        "]\n"
      ]
    },
    {
      "cell_type": "code",
      "execution_count": null,
      "metadata": {
        "colab": {
          "base_uri": "https://localhost:8080/"
        },
        "id": "3LUbLyqnjYwk",
        "outputId": "ee916133-a70d-47e3-c127-c8534c7aa113"
      },
      "outputs": [
        {
          "output_type": "stream",
          "name": "stderr",
          "text": [
            "[nltk_data] Downloading package indian to /root/nltk_data...\n",
            "[nltk_data]   Unzipping corpora/indian.zip.\n",
            "[nltk_data] Downloading package stopwords to /root/nltk_data...\n",
            "[nltk_data]   Unzipping corpora/stopwords.zip.\n"
          ]
        }
      ],
      "source": [
        "from nltk.corpus import stopwords\n",
        "import nltk\n",
        "nltk.download(\"indian\")\n",
        "\n",
        "nltk.download(\"stopwords\")\n",
        "def remove_hindi_stopwords(text):\n",
        "    words = nltk.word_tokenize(text)\n",
        "    cleaned_words = []\n",
        "    for word in words:\n",
        "        # Remove specific words\n",
        "        if word.lower() not in hindi_stopwords:\n",
        "            # Remove English words and special characters\n",
        "            if not re.match(\"^[A-Za-z]*$\", word) and not bool(re.search(r'[0-9०-९]', word)):\n",
        "                # Specify special characters to remove (e.g., @, ., ,, #, &)\n",
        "                word = re.sub(r'[.,@#&]', '', word)\n",
        "                cleaned_words.append(word)\n",
        "    return ' '.join(cleaned_words)\n",
        "\n"
      ]
    },
    {
      "cell_type": "code",
      "execution_count": null,
      "metadata": {
        "id": "dHiNCefzjasQ"
      },
      "outputs": [],
      "source": [
        "train['text'] = train['text'].apply(remove_hindi_stopwords)\n",
        "test['text'] = test['text'].apply(remove_hindi_stopwords)"
      ]
    },
    {
      "cell_type": "code",
      "execution_count": null,
      "metadata": {
        "id": "sKFNkt0-jdTg"
      },
      "outputs": [],
      "source": [
        "# Create TF-IDF vectors from the text data\n",
        "#tfidf_vectorizer = TfidfVectorizer(max_features=10000, ngram_range=(1, 2))\n",
        "train_tfidf = tfidf_vectorizer.transform(train['text'])\n",
        "test_tfidf = tfidf_vectorizer.transform(test['text'])"
      ]
    },
    {
      "cell_type": "code",
      "execution_count": null,
      "metadata": {
        "id": "14jcY_cEjkzU"
      },
      "outputs": [],
      "source": [
        "sentim_train = svm_classifier.predict(train_tfidf)\n",
        "sentim_test = svm_classifier.predict(test_tfidf)"
      ]
    },
    {
      "cell_type": "code",
      "execution_count": null,
      "metadata": {
        "id": "wgJI9YHZjum1"
      },
      "outputs": [],
      "source": [
        "train['sentiment'] = sentim_train\n",
        "test['sentiment'] = sentim_test"
      ]
    },
    {
      "cell_type": "code",
      "source": [
        "train['sentiment'].value_counts()"
      ],
      "metadata": {
        "colab": {
          "base_uri": "https://localhost:8080/"
        },
        "id": "35X1lco3jdd6",
        "outputId": "5174a766-340c-4606-a4f1-bad7511880df"
      },
      "execution_count": null,
      "outputs": [
        {
          "output_type": "execute_result",
          "data": {
            "text/plain": [
              "-1    1491\n",
              " 1     318\n",
              " 0     246\n",
              "Name: sentiment, dtype: int64"
            ]
          },
          "metadata": {},
          "execution_count": 42
        }
      ]
    },
    {
      "cell_type": "code",
      "execution_count": null,
      "metadata": {
        "id": "f4_SMWGQkYc3"
      },
      "outputs": [],
      "source": [
        "sentiment_mapping = {\"negative\": -1, \"neutral\": 0, \"positive\": 1}\n",
        "train['sentiment'] = train['sentiment'].map(sentiment_mapping)\n",
        "test['sentiment'] = test['sentiment'].map(sentiment_mapping)"
      ]
    },
    {
      "cell_type": "code",
      "source": [
        "row_with_sentiment_zero = train.loc[train['sentiment'] == 0].iloc[2]\n",
        "row_with_sentiment_zero.text"
      ],
      "metadata": {
        "colab": {
          "base_uri": "https://localhost:8080/",
          "height": 175
        },
        "id": "57BaTZ_Mj4JS",
        "outputId": "8beeae5a-649c-4d7e-e937-c91505025ed2"
      },
      "execution_count": null,
      "outputs": [
        {
          "output_type": "execute_result",
          "data": {
            "text/plain": [
              "\"मैसाचुसेट्स कॉप पत्नी ब्लैक लिव्स मैटर स्रोत पिनक फेक होम-इन्वेस्टमेंट रॉबरी बस्टेड : पिनैक एक मैसाचुसेट्स पुलिस पत्नी झूठे पुलिस रिपोर्ट दर्ज आरोप लग  क्योंकि एक चोर घुसकर तोड़फोड़  गहने डॉलर चोरी और ब्लैक लाइव्स मैटर साथ ब्लैक लोगों पिन कहानी सुनाई। मिलबरी सिपाही डैनियल डेली पत्नी मारिया डैली अक्टूबर पुलिस रिपोर्ट दर्ज सपने शिकार बारे सोशल मीडिया लिया। बोस्टन हेराल्ड अनुसार  `` हम सो  न केवल हमारे लूट  बल्कि नफरत बिना देखने जाग था। '' अगर निजी फेसबुक अकाउंट आरोप लगाते  `` अगर [ ] मुझसे कल ब्लू लाइफ और ब्लैक लाइफ बारे पूछते  तो मेरी प्रतिक्रिया सकारात्मक [ ] होगी। '' “ आज दूसरी तरफ मुझे गुस्सा और नफरत कि जैसा नहीं हूँ। जो हमें दिनों निपटना और मुझे बीमार कि जो मेरे तरफ था। ” मारिया डैली पुलिस बताने बुलाया कि लूट सो रही थी और ब्लैक लिव्स मैटर बीएलएम साथ स्प्रे-पेंट और सोशल मीडिया बारे पोस्ट किया। मिलबरी पुलिस प्रमुख डोनाल्ड डेसोरसी हेराल्ड बताया कि डेली अक्टूबर सुबह-सुबह पुलिस रिपोर्ट बुलाया  दावा कि बाहर हजारों डॉलर मूल्य कीमती सामान और स्प्रे-पेंटिंग `` बीएलएम '' साथ बंद था। चीफ डेसोरसी कि जैसे-जैसे जांच सामने आती  `` सही '' महसूस नहीं और डेली स्वीकार कि बात गढ़ी  अधिकारियों बता रही कि कीमती सामान बरामद चुके थे। “ स्पष्ट था। अधिकारियों यथोचित परिश्रम और हमारे पास जो जांच थी  साथ सीबीएस बोस्टन बताया। “ हम निष्कर्ष पहुंचे कि गढ़ा था। घुसपैठिया नहीं  चोरी नहीं थी। ” प्रमुख कि झटके दंपति वित्तीय परेशानियों प्रेरित और परिवार सहानुभूति थी। '' साथ परिचित हूं और परिस्थितियों एक दुर्भाग्यपूर्ण सेट जो घटित है। '' डैली पड़ोसियों कि एक महिला स्मार्ट बात नहीं  जो एक पुलिस शादी है। '' खुद उस जगह टैग होगा  '' एक पड़ोसी कहा। '' मुझे नहीं पता कि ऐसा क्यों  एक डकैती  तो मेरा मतलब कि वास्तव एक पुलिस पत्नी हैं। '' तुम्हें ज्यादा अच्छे पता चाहिए। '' झूठी पुलिस रिपोर्ट दर्ज आरोपों अलावा  डैली एक पुलिस जांच गुमराह आरोप है। समन जारी मामलों सुनवाई वॉर्सेस्टर डिस्ट्रिक्ट कोर्ट होगी। डेली पति  डैनियल डैली पुलिस अनुसार  चकमा संबंध शामिल नहीं आरोपित नहीं थे। लेख हिस्सा \""
            ],
            "application/vnd.google.colaboratory.intrinsic+json": {
              "type": "string"
            }
          },
          "metadata": {},
          "execution_count": 55
        }
      ]
    },
    {
      "cell_type": "markdown",
      "metadata": {
        "id": "OtHoRTA5mfl0"
      },
      "source": [
        "Fake news detection"
      ]
    },
    {
      "cell_type": "code",
      "execution_count": null,
      "metadata": {
        "id": "CI-pP70_k8Kt"
      },
      "outputs": [],
      "source": [
        "#train.head()"
      ]
    },
    {
      "cell_type": "code",
      "execution_count": null,
      "metadata": {
        "id": "7W-x8QNxnLtd"
      },
      "outputs": [],
      "source": [
        "from sklearn.base import BaseEstimator, TransformerMixin\n",
        "from sklearn.feature_extraction.text import CountVectorizer, TfidfTransformer\n",
        "from sklearn.pipeline import Pipeline, FeatureUnion\n",
        "from sklearn.preprocessing import StandardScaler\n"
      ]
    },
    {
      "cell_type": "code",
      "execution_count": null,
      "metadata": {
        "id": "RkqKG45ymh2R"
      },
      "outputs": [],
      "source": [
        "class ItemSelector(BaseEstimator, TransformerMixin):\n",
        "    def __init__(self, key):\n",
        "        self.key = key\n",
        "\n",
        "    def fit(self, x, y=None):\n",
        "        return self\n",
        "\n",
        "    def transform(self, data_dict):\n",
        "        return data_dict[self.key]\n"
      ]
    },
    {
      "cell_type": "code",
      "execution_count": null,
      "metadata": {
        "id": "f8Tdry5LkhSU"
      },
      "outputs": [],
      "source": [
        "from sklearn.pipeline import Pipeline, FeatureUnion\n",
        "from sklearn.ensemble import RandomForestClassifier\n",
        "pipeline_rfc = Pipeline([\n",
        "    # ('selector', ItemSelector(key='text')),\n",
        "    ('cv', CountVectorizer()),\n",
        "    ('tfidf', TfidfTransformer()),\n",
        "    ('classifier', RandomForestClassifier())\n",
        "])"
      ]
    },
    {
      "cell_type": "code",
      "execution_count": null,
      "metadata": {
        "id": "pTdjKeXvzUIj"
      },
      "outputs": [],
      "source": [
        "from sklearn.pipeline import Pipeline, FeatureUnion\n",
        "from sklearn.svm import SVC\n",
        "\n",
        "pipeline_svc = Pipeline([\n",
        "    # ('selector', ItemSelector(key='text')),\n",
        "    ('cv', CountVectorizer()),\n",
        "    ('tfidf', TfidfTransformer()),\n",
        "    ('classifier', SVC())\n",
        "])"
      ]
    },
    {
      "cell_type": "code",
      "execution_count": null,
      "metadata": {
        "id": "GhnvmuzimBII"
      },
      "outputs": [],
      "source": [
        "# Split the dataset into training and testing sets\n",
        "X = train['text']\n",
        "y_sentiment = train['sentiment']\n",
        "y_authenticity = train['label']\n",
        "\n",
        "X_train, X_test, y_sentiment_train, y_sentiment_test, y_authenticity_train, y_authenticity_test = train_test_split(\n",
        "    X, y_sentiment, y_authenticity, test_size=0.2, random_state=42\n",
        ")"
      ]
    },
    {
      "cell_type": "code",
      "execution_count": null,
      "metadata": {
        "id": "0Vok0y3IxCyu",
        "colab": {
          "base_uri": "https://localhost:8080/"
        },
        "outputId": "2dbad3d9-3817-4b51-89b3-a225f2973069"
      },
      "outputs": [
        {
          "output_type": "execute_result",
          "data": {
            "text/plain": [
              "1540   -1\n",
              "554     0\n",
              "1451   -1\n",
              "887    -1\n",
              "1167    0\n",
              "       ..\n",
              "1907    0\n",
              "1520    1\n",
              "1440   -1\n",
              "68     -1\n",
              "1032   -1\n",
              "Name: sentiment, Length: 411, dtype: int64"
            ]
          },
          "metadata": {},
          "execution_count": 61
        }
      ],
      "source": [
        "y_sentiment_test"
      ]
    },
    {
      "cell_type": "code",
      "source": [
        "svc_sentiment_test"
      ],
      "metadata": {
        "colab": {
          "base_uri": "https://localhost:8080/"
        },
        "id": "B1srXFd2pn_p",
        "outputId": "71916850-e2ce-4c75-b2aa-9719ee51a726"
      },
      "execution_count": null,
      "outputs": [
        {
          "output_type": "execute_result",
          "data": {
            "text/plain": [
              "array([-1, -1, -1, -1, -1, -1, -1, -1, -1, -1,  1, -1, -1, -1, -1,  1, -1,\n",
              "       -1, -1, -1, -1, -1, -1, -1, -1, -1, -1, -1, -1, -1, -1, -1, -1, -1,\n",
              "       -1, -1, -1, -1,  1, -1, -1, -1,  1, -1, -1, -1,  1,  1, -1, -1, -1,\n",
              "       -1, -1, -1, -1,  1, -1, -1, -1, -1, -1, -1, -1, -1, -1, -1, -1, -1,\n",
              "       -1, -1, -1, -1, -1, -1, -1, -1, -1, -1, -1, -1, -1, -1, -1, -1, -1,\n",
              "       -1, -1, -1, -1, -1, -1, -1, -1, -1, -1, -1, -1, -1,  1, -1,  0, -1,\n",
              "       -1, -1, -1, -1, -1, -1, -1, -1, -1, -1, -1, -1, -1, -1, -1, -1, -1,\n",
              "       -1, -1, -1, -1, -1, -1,  1, -1, -1, -1, -1, -1,  1, -1, -1, -1, -1,\n",
              "       -1, -1, -1,  1,  1, -1, -1, -1, -1, -1, -1, -1, -1, -1, -1, -1,  1,\n",
              "       -1, -1, -1, -1, -1, -1, -1, -1, -1, -1, -1, -1, -1,  1, -1,  0,  1,\n",
              "       -1, -1, -1,  1, -1,  1, -1, -1, -1,  1, -1, -1,  1, -1, -1, -1, -1,\n",
              "       -1, -1, -1, -1, -1, -1, -1, -1, -1,  1, -1, -1, -1, -1, -1, -1,  1,\n",
              "       -1, -1,  1, -1, -1, -1, -1, -1, -1, -1, -1, -1, -1, -1, -1, -1, -1,\n",
              "       -1, -1, -1, -1, -1, -1, -1, -1, -1, -1, -1,  1, -1, -1, -1, -1, -1,\n",
              "       -1, -1, -1, -1, -1, -1, -1, -1, -1, -1, -1,  1, -1, -1, -1, -1, -1,\n",
              "       -1, -1, -1, -1, -1, -1, -1, -1, -1, -1, -1, -1, -1, -1, -1, -1, -1,\n",
              "       -1, -1,  1, -1,  1, -1, -1, -1, -1, -1, -1, -1, -1, -1, -1, -1, -1,\n",
              "       -1, -1, -1, -1, -1, -1,  1, -1, -1, -1, -1, -1, -1, -1, -1,  1, -1,\n",
              "       -1, -1, -1, -1,  1, -1, -1, -1, -1, -1, -1, -1, -1, -1, -1,  1, -1,\n",
              "        1, -1, -1, -1, -1,  1, -1, -1,  1,  1, -1, -1, -1, -1, -1, -1, -1,\n",
              "       -1, -1, -1, -1, -1, -1, -1, -1, -1, -1,  1, -1, -1, -1, -1, -1, -1,\n",
              "        1, -1,  1, -1, -1, -1,  1, -1, -1,  1, -1, -1, -1, -1, -1, -1, -1,\n",
              "        1,  1, -1, -1, -1, -1, -1,  1, -1, -1, -1, -1, -1, -1, -1, -1, -1,\n",
              "        1, -1, -1, -1, -1, -1,  1, -1, -1,  1, -1, -1, -1, -1, -1, -1,  1,\n",
              "       -1, -1, -1])"
            ]
          },
          "metadata": {},
          "execution_count": 62
        }
      ]
    },
    {
      "cell_type": "code",
      "execution_count": null,
      "metadata": {
        "id": "kcMrxbolo1AE"
      },
      "outputs": [],
      "source": [
        "from sklearn.linear_model import LogisticRegression\n",
        "from sklearn.svm import SVC\n",
        "from sklearn.ensemble import RandomForestClassifier"
      ]
    },
    {
      "cell_type": "code",
      "execution_count": null,
      "metadata": {
        "id": "OhGhNMBlp6SH",
        "colab": {
          "base_uri": "https://localhost:8080/"
        },
        "outputId": "8649c851-2cc7-48e2-91d4-4fdd21ee6c3a"
      },
      "outputs": [
        {
          "output_type": "stream",
          "name": "stdout",
          "text": [
            "Accuracy for sentiments with RFC training:1.0\n",
            "Accuracy for sentiments with RFC test:0.8491484184914841\n",
            "\n",
            "Classification rep for sentiments with RFC training\n",
            ":              precision    recall  f1-score   support\n",
            "\n",
            "          -1       1.00      1.00      1.00      1184\n",
            "           0       1.00      1.00      1.00       194\n",
            "           1       1.00      1.00      1.00       266\n",
            "\n",
            "    accuracy                           1.00      1644\n",
            "   macro avg       1.00      1.00      1.00      1644\n",
            "weighted avg       1.00      1.00      1.00      1644\n",
            "\n",
            "Classification rep for sentiments with RFC test\n",
            ":              precision    recall  f1-score   support\n",
            "\n",
            "          -1       0.83      1.00      0.91       307\n",
            "           0       1.00      0.02      0.04        52\n",
            "           1       0.98      0.81      0.88        52\n",
            "\n",
            "    accuracy                           0.85       411\n",
            "   macro avg       0.94      0.61      0.61       411\n",
            "weighted avg       0.87      0.85      0.79       411\n",
            "\n"
          ]
        }
      ],
      "source": [
        "pipeline_rfc_sent.fit(X_train, y_sentiment_train)\n",
        "rfc_sentiment_train = pipeline_rfc_sent.predict(X_train)\n",
        "\n",
        "rfc_sentiment_test = pipeline_rfc_sent.predict(X_test)\n",
        "\n",
        "print(f\"Accuracy for sentiments with RFC training:{accuracy_score(y_sentiment_train, rfc_sentiment_train)}\")\n",
        "print(f\"Accuracy for sentiments with RFC test:{accuracy_score(y_sentiment_test, rfc_sentiment_test)}\\n\")\n",
        "\n",
        "print(f\"Classification rep for sentiments with RFC training\\n:{classification_report(y_sentiment_train, rfc_sentiment_train)}\")\n",
        "print(f\"Classification rep for sentiments with RFC test\\n:{classification_report(y_sentiment_test, rfc_sentiment_test)}\")\n",
        "\n",
        "# print()\n",
        "\n",
        "# pipeline_rfc_sent.fit(X_train,y_authenticity_train)\n",
        "# rfc_authenticity_train = pipeline_rfc_sent.predict(X_train)\n",
        "\n",
        "# rfc_authenticity_test = pipeline_rfc_sent.predict(X_test)\n",
        "\n",
        "# print(f\"Accuracy for news with RFC training:{accuracy_score(y_authenticity_train, rfc_authenticity_train)}\")\n",
        "# print(f\"Accuracy for news with RFC test:{accuracy_score(y_authenticity_test, rfc_authenticity_test)}\\n\")\n",
        "\n",
        "# print(f\"Classification rep for news with RFC training\\n:{classification_report(y_authenticity_train, rfc_authenticity_train)}\")\n",
        "# print(f\"Classification rep for news with RFC test\\n:{classification_report(y_authenticity_test, rfc_authenticity_test)}\")\n",
        "\n"
      ]
    },
    {
      "cell_type": "code",
      "execution_count": null,
      "metadata": {
        "id": "iGYBCNaEzHlj",
        "colab": {
          "base_uri": "https://localhost:8080/"
        },
        "outputId": "bb4a2ae6-fe2a-4824-e8e6-377b6f93a361"
      },
      "outputs": [
        {
          "output_type": "stream",
          "name": "stdout",
          "text": [
            "Accuracy for sentiments with RFC training:0.9586374695863747\n",
            "Accuracy for sentiments with RFC test:0.8491484184914841\n",
            "\n",
            "Classification rep for sentiments with RFC training\n",
            ":              precision    recall  f1-score   support\n",
            "\n",
            "          -1       0.95      1.00      0.97      1184\n",
            "           0       1.00      0.72      0.84       194\n",
            "           1       0.99      0.95      0.97       266\n",
            "\n",
            "    accuracy                           0.96      1644\n",
            "   macro avg       0.98      0.89      0.93      1644\n",
            "weighted avg       0.96      0.96      0.96      1644\n",
            "\n",
            "Classification rep for sentiments with RFC test\n",
            ":              precision    recall  f1-score   support\n",
            "\n",
            "          -1       0.84      0.99      0.91       307\n",
            "           0       1.00      0.04      0.07        52\n",
            "           1       0.93      0.83      0.88        52\n",
            "\n",
            "    accuracy                           0.85       411\n",
            "   macro avg       0.92      0.62      0.62       411\n",
            "weighted avg       0.87      0.85      0.80       411\n",
            "\n",
            "Accuracy for news with SVC training:0.9829683698296837\n",
            "Accuracy for news with SVC test:0.8321167883211679\n",
            "\n",
            "Classification rep for news with SVC training\n",
            ":              precision    recall  f1-score   support\n",
            "\n",
            "           0       0.97      0.99      0.98       812\n",
            "           1       0.99      0.97      0.98       832\n",
            "\n",
            "    accuracy                           0.98      1644\n",
            "   macro avg       0.98      0.98      0.98      1644\n",
            "weighted avg       0.98      0.98      0.98      1644\n",
            "\n",
            "Classification rep for news with SVC test\n",
            ":              precision    recall  f1-score   support\n",
            "\n",
            "           0       0.85      0.85      0.85       229\n",
            "           1       0.81      0.81      0.81       182\n",
            "\n",
            "    accuracy                           0.83       411\n",
            "   macro avg       0.83      0.83      0.83       411\n",
            "weighted avg       0.83      0.83      0.83       411\n",
            "\n"
          ]
        }
      ],
      "source": [
        "pipeline_svc.fit(X_train, y_sentiment_train)\n",
        "svc_sentiment_train = pipeline_svc.predict(X_train)\n",
        "\n",
        "svc_sentiment_test = pipeline_svc.predict(X_test)\n",
        "\n",
        "print(f\"Accuracy for sentiments with RFC training:{accuracy_score(y_sentiment_train, svc_sentiment_train)}\")\n",
        "print(f\"Accuracy for sentiments with RFC test:{accuracy_score(y_sentiment_test, svc_sentiment_test)}\\n\")\n",
        "\n",
        "print(f\"Classification rep for sentiments with RFC training\\n:{classification_report(y_sentiment_train, svc_sentiment_train)}\")\n",
        "print(f\"Classification rep for sentiments with RFC test\\n:{classification_report(y_sentiment_test, svc_sentiment_test)}\")\n",
        "pipeline_svc.fit(X_train,y_authenticity_train)\n",
        "svc_authenticity_train = pipeline_svc.predict(X_train)\n",
        "\n",
        "svc_authenticity_test = pipeline_svc.predict(X_test)\n",
        "\n",
        "print(f\"Accuracy for news with SVC training:{accuracy_score(y_authenticity_train, svc_authenticity_train)}\")\n",
        "print(f\"Accuracy for news with SVC test:{accuracy_score(y_authenticity_test, svc_authenticity_test)}\\n\")\n",
        "\n",
        "print(f\"Classification rep for news with SVC training\\n:{classification_report(y_authenticity_train, svc_authenticity_train)}\")\n",
        "print(f\"Classification rep for news with SVC test\\n:{classification_report(y_authenticity_test, svc_authenticity_test)}\")\n",
        "\n"
      ]
    },
    {
      "cell_type": "code",
      "source": [
        "pipeline_svc.predict([\"हाउस डिम एड: हमने जेसन चैफेट के ट्वीट करने तक कॉमी का पत्र भी नहीं देखा,हाउस डिम एड : हमने अक्टूबर  डारेल ल्यूकस इसे कॉमी पत्र नहीं देखा  अमेरिकन फोर्क  यूटा स्टैम्प जेसन शैफेट्ज सदस्यता लें ( छवि सौजन्य माइकल लॉली  एक क्रिएटिव कॉमन्स-बाय लाइसेंस तहत उपलब्ध ) कीथ ओल्बरमैन माफी साथ  संदेह नहीं कि विश्व खराब व्यक्ति सप्ताह है-एफबीआई निदेशक जेम्स कॉमी। एक हाउस डेमोक्रेटिक सहयोगी अनुसार  ऐसा लगता कि हम जानते कि दूसरा खराब व्यक्ति है। पता चला कि कॉमी अब-कुख्यात पत्र घोषणा कि एफबीआई उन ईमेलों देख जो हिलेरी क्लिंटन ईमेल सर्वर संबंधित  तो संबंधित समितियों रैंकिंग डेमोक्रेट कॉमी बारे सुना नहीं है। रिपब्लिकन कमेटी एक अध्यक्ष एक ट्वीट माध्यम पता चला। जैसा कि अब हम जानते  कॉमी रिपब्लिकन अध्यक्षों और हाउस इंटेलिजेंस  ज्यूडिशियरी  और ओवरसाइट समितियों डेमोक्रेटिक रैंकिंग सदस्यों सूचित कि एजेंसी उन ईमेलों समीक्षा रही थी जिन्हें हाल पता चला कि क्या वे वर्गीकृत जानकारी रखते हैं। पत्र बाहर जाने लंबे समय  ओवरसाइट कमेटी अध्यक्ष जेसन चैफेट्ज़ ट्वीट साथ राजनीतिक दुनिया आग लगा दी। एफबीआई डर मुझे सूचित  `` एफबीआई उन ईमेलों अस्तित्व बारे सीखा जो जांच अनुसार प्रतीत हैं। '' मामला खुल - जेसन शैफेट्ज़ (  ) अक्टूबर  बेशक  अब हम जानते कि मामला नहीं था। कॉमी वास्तव कह कि `` एक असंबंधित मामला '' प्रकाश ईमेल समीक्षा  जो अब हम एक किशोर साथ एंथोनी वेनर सेक्सटिंग जानते हैं। स्पष्ट रूप छोटी चीजें तथ्य रूप महत्वपूर्ण नहीं थीं। यूटा रिपब्लिकन जांच शुरू कसम खाई थी कि अगर हिलेरी कम कम साल जीतती  और संभवत : पूरे कार्यकाल लायक हैं। जाहिर तौर शैफेट्ज लगा कि एफबीआई काम रही - परिणामस्वरूप एक ट्वीट देश हल्का  कि कूलर प्रमुखों एहसास कि एक कठिन घटना है। एक वरिष्ठ हाउस डेमोक्रेटिक सहयोगी अनुसार  उस पत्र गलत तरीके फैलाना शायद चैफेट पापों कम कम हो। उस सहयोगी शेयरब्लू बताया कि बॉस और डेमोक्रेट उस समय कॉमी पत्र बारे नहीं पता - और केवल तभी पता चला उन्होंने ट्विटर जाँच की। `` संबंधित समितियों डेमोक्रेटिक रैंकिंग सदस्यों रिपब्लिकन अध्यक्षों कॉमी पत्र नहीं मिला। वास्तव डेमोक्रेटिक रैंकिंग सदस्यों इसे प्राप्त नहीं कि ओवरसाइट और सरकारी सुधार समिति अध्यक्ष  जेसन चैफेट्ज़ इसे ट्वीट नहीं और इसे सार्वजनिक दिया। ” तो चलो देखते कि क्या हमें अधिकार मिला है। एफबीआई निदेशक शैफेट और जीओपी समिति अध्यक्षों संभावित रूप राजनीतिक रूप विस्फोटक जांच एक प्रमुख विकास बारे बताता  और न शैफेट और सहयोगियों डेमोक्रेटिक समकक्षों बारे बताने शिष्टाचार था। बजाय  सहयोगी अनुसार  ट्विटर बारे पता लगाया। डेली कोस बात चुकी कि कॉमी खुद शैफेट और रिपब्लिकन पत्र अग्रिम नोटिस  जिससे स्पिन मशीन चालू समय मिल गया। कि अच्छे थिएटर बना  ऐसा नहीं जो बताता कि मामला है। आखिरकार  ऐसा नहीं जो बताता कि कॉमी घोर अक्षम और टोन-बहरा अलावा नहीं था। हालांकि  सुझाव देता कि चैफेट्ज़ एक अभिनय  जो डैन बर्टन और डेरेल इस्सा ज़िम्मेदारी और द्विदलीयता मॉडल दिखता है। पास विस्फोटक बारे रैंकिंग सदस्य एलिजा कमिंग्स सूचित शालीनता नहीं थी। निष्पक्षता बुनियादी मानकों नहीं रौंदता  तो मुझे नहीं पता कि क्या है। दी गई  संभावना नहीं कि शैफेट जवाब देना होगा। प्रोवो और ओरेम लंगर डाले एक हास्यास्पद रिपब्लिकन जिले बैठता ; + कुक पार्टिसन वोटिंग इंडेक्स  और मिट रोमनी प्रतिशत वोट दंड था। अलावा  रिपब्लिकन हाउस नेतृत्व शैफेट योजनाबद्ध मछली पकड़ने अभियान पूर्ण समर्थन है। मतलब नहीं कि हम उस गर्म रोशनी नहीं डाल सकते। आखिरकार  एक पाठ्यपुस्तक उदाहरण जो सदन रिपब्लिकन नियंत्रण है। और दुनिया दूसरा बुरा व्यक्ति है। डेरेल लुकस बारे डारेल उत्तरी कैरोलिना विश्वविद्यालय स्नातक जो खुद पुराने स्कूल पत्रकार मानता है। कॉलेज धार्मिक अधिकार एक सदस्य रूप बदलने प्रयास केवल धार्मिक अधिकार बुरे सपने बदलने सफल - एक करिश्माई ईसाई जो एक अप्रकाशित उदारवादी है। उन लोगों खड़े इच्छा जो केवल चुप्पी डर गए  एक अपमानजनक तीन साल शादी बच गए। ईपू  डेली कोस ईसाई मांग रूप जान हैं। ट्विटर  अनुसरण फेसबुक साथ जुड़ें। खरीदने यहां क्लिक करें। जुडिये\"])"
      ],
      "metadata": {
        "colab": {
          "base_uri": "https://localhost:8080/"
        },
        "id": "T_61fIs3pHw3",
        "outputId": "f3d7c5ac-c18b-401c-ebea-b6dc93d2c7fa"
      },
      "execution_count": null,
      "outputs": [
        {
          "output_type": "execute_result",
          "data": {
            "text/plain": [
              "array([1])"
            ]
          },
          "metadata": {},
          "execution_count": 57
        }
      ]
    },
    {
      "cell_type": "code",
      "source": [
        "!pip install joblib\n",
        "import joblib\n",
        "joblib.dump(pipeline_svc, '/content/drive/MyDrive/NLP Project/news_classifier.pkl')\n",
        "# joblib.dump(pipeline_rfc_sent,'/content/drive/MyDrive/NLP Project/sentiment_classifier.pkl')"
      ],
      "metadata": {
        "id": "Bg_V3HF_hsZn",
        "colab": {
          "base_uri": "https://localhost:8080/"
        },
        "outputId": "a6962250-e6ce-4fc4-9b84-a997b5c82ee9"
      },
      "execution_count": null,
      "outputs": [
        {
          "output_type": "stream",
          "name": "stdout",
          "text": [
            "Requirement already satisfied: joblib in /usr/local/lib/python3.10/dist-packages (1.3.2)\n"
          ]
        },
        {
          "output_type": "execute_result",
          "data": {
            "text/plain": [
              "['/content/drive/MyDrive/NLP Project/news_classifier.pkl']"
            ]
          },
          "metadata": {},
          "execution_count": 54
        }
      ]
    },
    {
      "cell_type": "code",
      "source": [
        "zero_sentiment_rows = train[train['sentiment'] == 0]\n",
        "zero_sentiment_rows.text"
      ],
      "metadata": {
        "id": "0GXefTj3hpsJ",
        "colab": {
          "base_uri": "https://localhost:8080/"
        },
        "outputId": "d6d84dc6-1bd3-4d9a-d127-0f65ba2bc71b"
      },
      "execution_count": null,
      "outputs": [
        {
          "output_type": "execute_result",
          "data": {
            "text/plain": [
              "18      हिलेरी एफबीआई बंद ! होम » मुख्य समाचार » विश्व...\n",
              "19      बुधवार न्यूयॉर्क शहर ट्रम्प टॉवर डोनाल्ड ट्रम्...\n",
              "23      मैसाचुसेट्स कॉप पत्नी ब्लैक लिव्स मैटर स्रोत प...\n",
              "52      एक नए अध्ययन पाया कि % सड़क किनारे दुर्घटनाओं ...\n",
              "54      सामन्था बी अमेरिकी राजनीति ( वीडियो ) ऑल्ट राइ...\n",
              "                              ...                        \n",
              "2055    ओबामा चुनाव प्रभावित वामपंथी समूहों धन स्थानां...\n",
              "2068    वीं सदी तार हैं… महान मुख्यधारा मीडिया और डेमो...\n",
              "2074    एक तर्क ट्रम्प समर्थकों और रूढ़िवादी बना कि फॉ...\n",
              "2075    राष्ट्रपति डोनाल्ड ट्रम्प कार्यकारी आदेश अस्था...\n",
              "2089                   हमारा समर्थन आगमन बोस्नियाई अनुवाद\n",
              "Name: text, Length: 246, dtype: object"
            ]
          },
          "metadata": {},
          "execution_count": 50
        }
      ]
    },
    {
      "cell_type": "code",
      "source": [],
      "metadata": {
        "id": "tBsU5l08mV0z"
      },
      "execution_count": null,
      "outputs": []
    }
  ],
  "metadata": {
    "colab": {
      "provenance": []
    },
    "kernelspec": {
      "display_name": "Python 3",
      "name": "python3"
    },
    "language_info": {
      "name": "python"
    }
  },
  "nbformat": 4,
  "nbformat_minor": 0
}